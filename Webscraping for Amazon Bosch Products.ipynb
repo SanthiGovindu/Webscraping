{
 "cells": [
  {
   "cell_type": "code",
   "execution_count": 1,
   "metadata": {},
   "outputs": [],
   "source": [
    "from selenium import webdriver\n",
    "from bs4 import BeautifulSoup as soup\n",
    "import time\n",
    "import pandas as pd"
   ]
  },
  {
   "cell_type": "code",
   "execution_count": 2,
   "metadata": {},
   "outputs": [],
   "source": [
    "## Export all the library links into excel file\n",
    "links = []\n",
    "chromedriver = \"chromedriver.exe\"\n",
    "driver = webdriver.Chrome(chromedriver)\n",
    "page_url= \"https://www.amazon.in/s?k=bosch+measuring+tool+kit&ref=nb_sb_noss\" \n",
    "driver.get(page_url)\n",
    "time.sleep(2)\n",
    "s = soup(driver.page_source, \"html.parser\")\n",
    "maindoc_url=s.find_all('a', class_=\"a-link-normal a-text-normal\")  \n",
    "for url in maindoc_url:\n",
    "    links.append(str(url['href']))\n",
    "linkexcel=pd.DataFrame(links)\n",
    "linkexcel.to_excel('AmazonLinks.xlsx')"
   ]
  },
  {
   "cell_type": "code",
   "execution_count": null,
   "metadata": {},
   "outputs": [],
   "source": [
    "## Read the links from excel and create output dataframe \n",
    "links_df=pd.read_excel(\"AmazonLinks.xlsx\")\n",
    "clmns = ['product name','product price','vendor name','Discounts','Answered questions','Reviews','Ratings']\n",
    "output = pd.DataFrame([], columns=clmns)\n",
    "chromedriver = \"chromedriver.exe\"\n",
    "driver = webdriver.Chrome(chromedriver)\n",
    "for i in links_df[0]:\n",
    "    url=\"https://www.amazon.in/\" + i\n",
    "    driver.get(url)\n",
    "    time.sleep(2)\n",
    "    s = soup(driver.page_source, \"html.parser\") \n",
    "\n",
    "    a= s.find_all('span',attrs={\"id\" : \"productTitle\"})        \n",
    "    j=[t.text for t in a]\n",
    "    productname = [x.strip() for x in j]\n",
    "    b = s.find_all('span',attrs={\"id\" : \"priceblock_ourprice\"})\n",
    "    p = [r.text for  r  in b]\n",
    "    productprice =[y.replace('\\xa0', ' ') for y in p]\n",
    "    v = s.find_all('a',attrs={\"id\" : \"bylineInfo\"})\n",
    "    vendorname= [t.text for t in v]\n",
    "    c = s.find_all('td',class_=\"a-span12 a-color-price a-size-base priceBlockSavingsString\") \n",
    "    d = [t.text for t in c]\n",
    "    d1 = [x.strip() for x in d]\n",
    "    disc=[y.replace('\\xa0', ' ') for y in d1]\n",
    "    discounts = [x.strip() for x in disc]\n",
    "    ansquestions = s.find_all('a', class_=\"a-link-normal askATFLink\")\n",
    "    ansques=[t.text for t in ansquestions]\n",
    "    answeredquestions = [x.strip() for x in ansques]\n",
    "    r = s.find_all('span', attrs={\"id\" : \"acrCustomerReviewText\"}) \n",
    "    reviews= [t.text for t in r]\n",
    "    r1 = s.find_all('span', attrs={\"id\" : \"acrPopover\"}) \n",
    "    r2= [t.text for t in r1]\n",
    "    ratings = [x.strip() for x in r2]\n",
    "    \n",
    "    new_rec = len(output)\n",
    "    output.loc[new_rec, 'product name']=productname \n",
    "    output.loc[new_rec, 'product price']=productprice \n",
    "    output.loc[new_rec, 'vendor name']=vendorname\n",
    "    output.loc[new_rec, 'Answered questions']=answeredquestions\n",
    "\n",
    "    output.loc[new_rec, 'Discounts']=discounts\n",
    "    output.loc[new_rec, 'Reviews']=reviews\n",
    "    output.loc[new_rec, 'Ratings']=ratings"
   ]
  },
  {
   "cell_type": "code",
   "execution_count": null,
   "metadata": {},
   "outputs": [],
   "source": [
    "## export output to excel\n",
    "output.to_excel('output.xlsx')"
   ]
  },
  {
   "cell_type": "code",
   "execution_count": null,
   "metadata": {},
   "outputs": [],
   "source": []
  }
 ],
 "metadata": {
  "kernelspec": {
   "display_name": "Python 3",
   "language": "python",
   "name": "python3"
  },
  "language_info": {
   "codemirror_mode": {
    "name": "ipython",
    "version": 3
   },
   "file_extension": ".py",
   "mimetype": "text/x-python",
   "name": "python",
   "nbconvert_exporter": "python",
   "pygments_lexer": "ipython3",
   "version": "3.7.3"
  }
 },
 "nbformat": 4,
 "nbformat_minor": 2
}
